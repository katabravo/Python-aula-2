{
  "nbformat": 4,
  "nbformat_minor": 0,
  "metadata": {
    "colab": {
      "provenance": [],
      "authorship_tag": "ABX9TyOptmkbx68jFI51lLVuu8oD",
      "include_colab_link": true
    },
    "kernelspec": {
      "name": "python3",
      "display_name": "Python 3"
    },
    "language_info": {
      "name": "python"
    }
  },
  "cells": [
    {
      "cell_type": "markdown",
      "metadata": {
        "id": "view-in-github",
        "colab_type": "text"
      },
      "source": [
        "<a href=\"https://colab.research.google.com/github/katabravo/Python-aula-2/blob/main/Untitled0.ipynb\" target=\"_parent\"><img src=\"https://colab.research.google.com/assets/colab-badge.svg\" alt=\"Open In Colab\"/></a>"
      ]
    },
    {
      "cell_type": "markdown",
      "source": [
        "1- Crea un programa que solicite al usuario que escriba su nombre y luego imprima \"Hola, [nombre]\n"
      ],
      "metadata": {
        "id": "tHpJqc1FhlOv"
      }
    },
    {
      "cell_type": "code",
      "source": [
        "nombre = input('Ingrese su nombre: ')\n",
        "print(f' ¡Hola, {nombre}!')"
      ],
      "metadata": {
        "colab": {
          "base_uri": "https://localhost:8080/"
        },
        "id": "2pQVx9MnelAR",
        "outputId": "f469a8f4-c772-40fc-b13f-8c931aac74cf"
      },
      "execution_count": 1,
      "outputs": [
        {
          "output_type": "stream",
          "name": "stdout",
          "text": [
            "Ingrese su nombre: Katherine\n",
            " ¡Hola, Katherine!\n"
          ]
        }
      ]
    },
    {
      "cell_type": "markdown",
      "source": [
        "2-Crea un programa que solicite al usuario que escriba su nombre y luego imprima \"Hola,[nombre], tienes [edad] años\""
      ],
      "metadata": {
        "id": "84D2NWH_iHNm"
      }
    },
    {
      "cell_type": "code",
      "source": [
        "nombre = input('Ingrese su nombre:')\n",
        "edad = input('Ingrese su edad: ')\n",
        "print(f'Hola, {nombre} tienes, {edad} años')"
      ],
      "metadata": {
        "id": "N_-KSmKtek5m",
        "colab": {
          "base_uri": "https://localhost:8080/"
        },
        "outputId": "1edfc68b-a468-42b3-e6b0-ed181845f310"
      },
      "execution_count": 2,
      "outputs": [
        {
          "output_type": "stream",
          "name": "stdout",
          "text": [
            "Ingrese su nombre:Katherine\n",
            "Ingrese su edad: 45\n",
            "Hola, Katherine tienes, 45 años\n"
          ]
        }
      ]
    },
    {
      "cell_type": "markdown",
      "source": [
        "3 - Crea un programa que solicite al usuario que escriba su nombre, edad y altura en metros, y luego imprima \"Hola, [nombre], tienes [edad] años y mides [altura] metros.\""
      ],
      "metadata": {
        "id": "zQuRgH4Tc-mr"
      }
    },
    {
      "cell_type": "code",
      "source": [
        "nombre = input('Ingrese su nombre: ')\n",
        "edad = input('Ingrese su edad: ')\n",
        "altura = input('Ingrese su altura: ')\n",
        "print(f'Hola, {nombre}, tienes {edad} años y mides {altura} metros ')"
      ],
      "metadata": {
        "id": "HgNjcdgXek17",
        "colab": {
          "base_uri": "https://localhost:8080/"
        },
        "outputId": "1dbeec6a-87e8-4a2d-aa71-9ce362263dfe"
      },
      "execution_count": 5,
      "outputs": [
        {
          "output_type": "stream",
          "name": "stdout",
          "text": [
            "Ingrese su nombre: Katherine\n",
            "Ingrese su edad: 45\n",
            "Ingrese su altura: 1.63\n",
            "Hola, Katherine, tienes 45 años y mides 1.63 metros \n"
          ]
        }
      ]
    },
    {
      "cell_type": "markdown",
      "source": [
        "4 - Crea un programa que solicite dos valores numéricos al usuario y luego imprima la suma de ambos valores.\n"
      ],
      "metadata": {
        "id": "yRnmJHdletpa"
      }
    },
    {
      "cell_type": "code",
      "source": [
        "c1 = int(input('Ingrese el primer valor:'))\n",
        "f2 = int(input('Ingrese el segundo valor:'))\n",
        "print(c1 + f2)"
      ],
      "metadata": {
        "id": "EPzkapuYekzp",
        "colab": {
          "base_uri": "https://localhost:8080/"
        },
        "outputId": "d5e4915a-8474-437d-fb8c-7f02e27b5587"
      },
      "execution_count": 6,
      "outputs": [
        {
          "output_type": "stream",
          "name": "stdout",
          "text": [
            "Ingrese el primer valor:21\n",
            "Ingrese el segundo valor:16\n",
            "37\n"
          ]
        }
      ]
    },
    {
      "cell_type": "markdown",
      "source": [
        "2 - Usando la misma lógica que en la pregunta anterior, podemos recopilar los tres valores con input y convertir la salida a números enteros con la función int(). Luego, podemos mostrar el resultado de la suma de los tres valores con +."
      ],
      "metadata": {
        "id": "9BkcI-PygohK"
      }
    },
    {
      "cell_type": "code",
      "source": [
        "c1 = int(input('ingrese el primer valor: '))\n",
        "c2 = int(input('Ingrese el segundo valor: '))\n",
        "c3 = int(input('Ingrese el tercer valor: '))\n",
        "print(c1 + c2 + c3)"
      ],
      "metadata": {
        "id": "NNH5V1SRekxK",
        "colab": {
          "base_uri": "https://localhost:8080/"
        },
        "outputId": "851a570f-b3af-4371-8647-957119d8ed18"
      },
      "execution_count": 7,
      "outputs": [
        {
          "output_type": "stream",
          "name": "stdout",
          "text": [
            "ingrese el primer valor: 21\n",
            "Ingrese el segundo valor: 16\n",
            "Ingrese el tercer valor: 45\n",
            "82\n"
          ]
        }
      ]
    },
    {
      "cell_type": "markdown",
      "source": [
        "3 - Podemos recopilar los dos valores con input y convertir la salida a números enteros con la función int(). Luego, podemos mostrar el resultado de la resta del primer valor menos el segundo valor con -."
      ],
      "metadata": {
        "id": "rbiSlO2AhlfM"
      }
    },
    {
      "cell_type": "code",
      "source": [
        "c1 = int(input('Ingrese el primer valor: '))\n",
        "c2 = int(input('Ingrese el segundo valor: '))\n",
        "print(c1 - c2)"
      ],
      "metadata": {
        "id": "eV_nGQP2ekuY",
        "colab": {
          "base_uri": "https://localhost:8080/"
        },
        "outputId": "ef6c8848-2678-4b07-b662-be71cf5aedbd"
      },
      "execution_count": 8,
      "outputs": [
        {
          "output_type": "stream",
          "name": "stdout",
          "text": [
            "Ingrese el primer valor: 21\n",
            "Ingrese el segundo valor: 16\n",
            "5\n"
          ]
        }
      ]
    },
    {
      "cell_type": "markdown",
      "source": [
        "4 - Podemos recopilar los dos valores con input y convertir la salida a números enteros con la función int(). Luego, podemos mostrar el resultado de la multiplicación de los dos valores con *."
      ],
      "metadata": {
        "id": "3oaZqK_ciM3v"
      }
    },
    {
      "cell_type": "code",
      "source": [
        "c1 = int(input('Ingrese el primer valor: '))\n",
        "c2 = int(input('Ingrese el segundo valor: '))\n",
        "print(c1 * c2)"
      ],
      "metadata": {
        "id": "M7Q-RKgleksF",
        "colab": {
          "base_uri": "https://localhost:8080/"
        },
        "outputId": "53beb799-5e42-4970-bde6-bf9221ba9dfe"
      },
      "execution_count": 9,
      "outputs": [
        {
          "output_type": "stream",
          "name": "stdout",
          "text": [
            "Ingrese el primer valor: 21\n",
            "Ingrese el segundo valor: 16\n",
            "336\n"
          ]
        }
      ]
    },
    {
      "cell_type": "markdown",
      "source": [
        "5 - Podemos recopilar el numerador y denominador con input y convertir la salida a números enteros con la función int(). Luego, podemos mostrar el resultado de la división entre los dos valores con /."
      ],
      "metadata": {
        "id": "UZElY6k-i2cP"
      }
    },
    {
      "cell_type": "code",
      "source": [
        "numerador = int(input('Ingrese el numerador: '))\n",
        "denominador = int(input('Ingrese el denominador: '))\n",
        "print(numerador / denominador)"
      ],
      "metadata": {
        "colab": {
          "base_uri": "https://localhost:8080/"
        },
        "id": "vwsAIFWpi74T",
        "outputId": "8d339197-a9e6-42fc-fc98-cedd277c3450"
      },
      "execution_count": 11,
      "outputs": [
        {
          "output_type": "stream",
          "name": "stdout",
          "text": [
            "Ingrese el numerador: 21\n",
            "Ingrese el denominador: 16\n",
            "1.3125\n"
          ]
        }
      ]
    },
    {
      "cell_type": "markdown",
      "source": [
        "6 - Podemos recopilar el operador y potencia con input y convertir la salida a números enteros con la función int(). Luego, podemos mostrar el resultado de la exponenciación entre estos dos valores con **."
      ],
      "metadata": {
        "id": "-fnTIj6Tj1-S"
      }
    },
    {
      "cell_type": "code",
      "source": [
        "operador = int(input('Ingrese el operador: '))\n",
        "potencia = int(input('Ingrese la potencia: '))\n",
        "print(operador ** potencia)\n"
      ],
      "metadata": {
        "colab": {
          "base_uri": "https://localhost:8080/"
        },
        "id": "zqpNIOgFi71l",
        "outputId": "f69d01e2-b2cd-4fe9-f772-02b8e3463baa"
      },
      "execution_count": 13,
      "outputs": [
        {
          "output_type": "stream",
          "name": "stdout",
          "text": [
            "Ingrese el operador: 10\n",
            "Ingrese la potencia: 6\n",
            "1000000\n"
          ]
        }
      ]
    },
    {
      "cell_type": "markdown",
      "source": [
        "7 - Podemos recopilar el numerador y denominador con input y convertir la salida a números enteros con la función int(). Luego, podemos mostrar el resultado de la división entera entre los dos valores con //."
      ],
      "metadata": {
        "id": "wxxB14GGkmbA"
      }
    },
    {
      "cell_type": "code",
      "source": [
        "numerador = int(input('Ingrese el numerador: '))\n",
        "denominador = int(input('Ingrese el denominador: '))\n",
        "print( numerador // denominador)"
      ],
      "metadata": {
        "colab": {
          "base_uri": "https://localhost:8080/"
        },
        "id": "SVbS7Rbii7yK",
        "outputId": "f6186a8d-7465-412a-ddff-6e33f6db4c78"
      },
      "execution_count": 15,
      "outputs": [
        {
          "output_type": "stream",
          "name": "stdout",
          "text": [
            "Ingrese el numerador: 62\n",
            "Ingrese el denominador: 6\n",
            "10\n"
          ]
        }
      ]
    },
    {
      "cell_type": "markdown",
      "source": [
        "8 - Podemos recopilar el numerador y denominador con input y convertir la salida a números enteros con la función int(). Luego, podemos mostrar el resultado del resto de la división entre los dos valores con %.\n"
      ],
      "metadata": {
        "id": "W0oj3cgslQna"
      }
    },
    {
      "cell_type": "code",
      "source": [
        "numerador = int(input('Ingrese el numerador: '))\n",
        "denominador = int(input('Ingrese el denominador: '))\n",
        "print(numerador % denominador)"
      ],
      "metadata": {
        "colab": {
          "base_uri": "https://localhost:8080/"
        },
        "id": "A6KTqniii7se",
        "outputId": "91bf9e9a-5788-4101-e3fe-ea255bdf35f8"
      },
      "execution_count": 17,
      "outputs": [
        {
          "output_type": "stream",
          "name": "stdout",
          "text": [
            "Ingrese el numerador: 21\n",
            "Ingrese el denominador: 16\n",
            "5\n"
          ]
        }
      ]
    },
    {
      "cell_type": "markdown",
      "source": [
        "9 - Podemos recopilar las tres notas con input y convertir la salida a números con decimales utilizando la función float(). Luego, podemos mostrar el resultado del promedio entre las tres variables sumando las notas con + y dividiendo la suma entre 3."
      ],
      "metadata": {
        "id": "gX4mM33-mC4T"
      }
    },
    {
      "cell_type": "code",
      "source": [
        "nota_1 = float(input('Ingrese la 1° nota: '))\n",
        "nota_2 = float(input('Ingrese la 2° nota: '))\n",
        "nota_3 = float(input('Ingrese la 3° nota: '))\n",
        "print(f'El promedio es: {(nota_1 + nota_2 + nota_3)/3}')"
      ],
      "metadata": {
        "colab": {
          "base_uri": "https://localhost:8080/"
        },
        "id": "6viU2zt1i7kI",
        "outputId": "c1c17330-8456-40e6-c719-de676ae61608"
      },
      "execution_count": 21,
      "outputs": [
        {
          "output_type": "stream",
          "name": "stdout",
          "text": [
            "Ingrese la 1° nota: 6.1\n",
            "Ingrese la 2° nota: 5.6\n",
            "Ingrese la 3° nota: 6.6\n",
            "El promedio es: 6.099999999999999\n"
          ]
        }
      ]
    },
    {
      "cell_type": "markdown",
      "source": [],
      "metadata": {
        "id": "w3lnIH0pm7Xv"
      }
    },
    {
      "cell_type": "markdown",
      "source": [
        "10 - Calculamos la media ponderada multiplicando los pesos por sus respectivos valores y sumando el resultado de cada multiplicación. El valor de estas sumas se divide entre la suma total de los pesos. Con el comando print, imprimimos el resultado del cálculo de la media."
      ],
      "metadata": {
        "id": "xOFUmxMeoWe9"
      }
    },
    {
      "cell_type": "code",
      "source": [
        "media_ponderada = (6*8 + 17*9 + 20*8 + 11*5) / (8 + 9 + 8 + 5)\n",
        "print(f'Media {media_ponderada}. ')"
      ],
      "metadata": {
        "id": "oGub-E28ekpg",
        "colab": {
          "base_uri": "https://localhost:8080/"
        },
        "outputId": "7f594366-3203-4c29-d375-ba0ed33059d7"
      },
      "execution_count": 22,
      "outputs": [
        {
          "output_type": "stream",
          "name": "stdout",
          "text": [
            "Media 13.866666666666667. \n"
          ]
        }
      ]
    },
    {
      "cell_type": "markdown",
      "source": [
        "1 - Definimos una frase arbitraria entre comillas simples y la imprimimos insertando la variable en un comando print."
      ],
      "metadata": {
        "id": "UUZlffraplOu"
      }
    },
    {
      "cell_type": "code",
      "source": [
        "frase = '¡Hola mis CaFecitas!'\n",
        "print(frase)"
      ],
      "metadata": {
        "colab": {
          "base_uri": "https://localhost:8080/"
        },
        "id": "QeL2p1MDmPdg",
        "outputId": "d980ed8a-bf0d-4ea0-c7a3-aed224e73772"
      },
      "execution_count": 23,
      "outputs": [
        {
          "output_type": "stream",
          "name": "stdout",
          "text": [
            "¡Hola mis CaFecitas!\n"
          ]
        }
      ]
    },
    {
      "cell_type": "markdown",
      "source": [
        "2 - Recopilamos una frase utilizando la función input y luego imprimimos el resultado con el comando print."
      ],
      "metadata": {
        "id": "czPqfAkgqA1K"
      }
    },
    {
      "cell_type": "code",
      "source": [
        "frase = input('Escribe una frase: ')\n",
        "print(frase)"
      ],
      "metadata": {
        "colab": {
          "base_uri": "https://localhost:8080/"
        },
        "id": "KBAstJYTmPYh",
        "outputId": "2a0eccfc-1598-4055-c3f1-428ae6ce9689"
      },
      "execution_count": 26,
      "outputs": [
        {
          "output_type": "stream",
          "name": "stdout",
          "text": [
            "Escribe una frase: Amo aprender!\n",
            "Amo aprender!\n"
          ]
        }
      ]
    },
    {
      "cell_type": "markdown",
      "source": [
        "3 - Recopilamos una frase utilizando la función input y luego mostramos su valor en mayúsculas utilizando el método upper. Podemos mostrar la salida de esto en un comando print."
      ],
      "metadata": {
        "id": "ngi2knMfzfU8"
      }
    },
    {
      "cell_type": "code",
      "source": [
        "frase = input('Escribe una frase: ')\n",
        "print(frase.upper())"
      ],
      "metadata": {
        "colab": {
          "base_uri": "https://localhost:8080/"
        },
        "id": "rfA5SKCkmPV4",
        "outputId": "f37bd1cb-02dd-43b9-cb5d-1e1e53e7bfed"
      },
      "execution_count": 27,
      "outputs": [
        {
          "output_type": "stream",
          "name": "stdout",
          "text": [
            "Escribe una frase: tarde de otoño\n",
            "TARDE DE OTOÑO\n"
          ]
        }
      ]
    },
    {
      "cell_type": "markdown",
      "source": [
        "4 - Recopilamos una frase utilizando la función input y luego mostramos su valor en minúsculas utilizando el método lower. Podemos mostrar la salida de esto en un comando print."
      ],
      "metadata": {
        "id": "Hg8ESB-P0GB-"
      }
    },
    {
      "cell_type": "code",
      "source": [
        "frase = input('Escribe una frase: ')\n",
        "print(frase.lower())"
      ],
      "metadata": {
        "colab": {
          "base_uri": "https://localhost:8080/"
        },
        "id": "CamLGLgXz64i",
        "outputId": "be2ff559-aef6-477f-f818-5b592ff9c957"
      },
      "execution_count": 28,
      "outputs": [
        {
          "output_type": "stream",
          "name": "stdout",
          "text": [
            "Escribe una frase: MAÑANA DE CAMPO\n",
            "mañana de campo\n"
          ]
        }
      ]
    },
    {
      "cell_type": "markdown",
      "source": [
        "5 - Para este ejemplo, es interesante definir una frase con espacios al principio y al final de la frase. Una vez hecho esto, podemos eliminar estos espacios utilizando el método strip y mostrar el resultado en un comando print."
      ],
      "metadata": {
        "id": "3IQQH2180faA"
      }
    },
    {
      "cell_type": "code",
      "source": [
        "frase = '  Hasta luego!  '\n",
        "print(frase.strip())"
      ],
      "metadata": {
        "colab": {
          "base_uri": "https://localhost:8080/"
        },
        "id": "fXD1Lll_mPTz",
        "outputId": "88ed9b65-13b4-4489-9589-a6bc3699f943"
      },
      "execution_count": 29,
      "outputs": [
        {
          "output_type": "stream",
          "name": "stdout",
          "text": [
            "Hasta luego!\n"
          ]
        }
      ]
    },
    {
      "cell_type": "markdown",
      "source": [
        "6 - Recopilamos una frase utilizando la función input, incluso si no estamos seguros de si tendrá espacios al principio y al final de la frase. Luego, podemos eliminar estos espacios utilizando el método strip. El resultado se puede mostrar en un comando print."
      ],
      "metadata": {
        "id": "cmXtQpvR02mW"
      }
    },
    {
      "cell_type": "code",
      "source": [
        "frase = input('escribe una frase: ')\n",
        "print(frase.strip())"
      ],
      "metadata": {
        "colab": {
          "base_uri": "https://localhost:8080/"
        },
        "id": "TktVUFwRmPRL",
        "outputId": "84e0d22f-5054-4217-afc5-a94173e7dad3"
      },
      "execution_count": 31,
      "outputs": [
        {
          "output_type": "stream",
          "name": "stdout",
          "text": [
            "escribe una frase: amo dormir\n",
            "amo dormir\n"
          ]
        }
      ]
    },
    {
      "cell_type": "markdown",
      "source": [
        "7 - Recopilamos una frase utilizando la función input, incluso si no estamos seguros de si tendrá espacios al principio y al final de la frase. Luego, eliminamos estos espacios utilizando el método strip y también usamos el método lower junto con strip. El resultado se puede mostrar en un comando print."
      ],
      "metadata": {
        "id": "qSY4JvF31rjr"
      }
    },
    {
      "cell_type": "code",
      "source": [
        "frase = input('Escribe una frase: ')\n",
        "print(frase.strip().lower())"
      ],
      "metadata": {
        "colab": {
          "base_uri": "https://localhost:8080/"
        },
        "id": "5mR7gdhxmPOg",
        "outputId": "16618f08-f187-4f13-80d1-07bd7528d9a9"
      },
      "execution_count": 33,
      "outputs": [
        {
          "output_type": "stream",
          "name": "stdout",
          "text": [
            "Escribe una frase:    ES MUY TARDE\n",
            "es muy tarde\n"
          ]
        }
      ]
    },
    {
      "cell_type": "markdown",
      "source": [
        "8 - Recopilamos una frase utilizando la función input. Para asegurarnos de que los caracteres no estén en mayúsculas, convertimos toda la frase a minúsculas utilizando el método lower y luego aplicamos el método replace, definiendo el valor a reemplazar como 'e' y el nuevo valor como 'f'. El resultado se muestra en un comando print."
      ],
      "metadata": {
        "id": "KgGg7X7D2SJP"
      }
    },
    {
      "cell_type": "code",
      "source": [
        "frase = input('Escribe una frase: ')\n",
        "print(frase.lower().replace('e' , 'f'))\n"
      ],
      "metadata": {
        "colab": {
          "base_uri": "https://localhost:8080/"
        },
        "id": "rZ3PJpGdmPMD",
        "outputId": "4b691ac2-81b2-42b6-e9fa-746d241a5131"
      },
      "execution_count": 38,
      "outputs": [
        {
          "output_type": "stream",
          "name": "stdout",
          "text": [
            "Escribe una frase: REEMPLAZAME\n",
            "rffmplazamf\n"
          ]
        }
      ]
    },
    {
      "cell_type": "markdown",
      "source": [
        "9 - Recopilamos una frase utilizando la función input. Para asegurarnos de que los caracteres no estén en mayúsculas, convertimos toda la frase a minúsculas utilizando el método lower y luego aplicamos el método replace, definiendo el valor a reemplazar como 'a' y el nuevo valor como el carácter 64 según la tabla Unicode, que corresponde al carácter @. El resultado se muestra en un comando print."
      ],
      "metadata": {
        "id": "XTP4WIeh60U4"
      }
    },
    {
      "cell_type": "code",
      "source": [
        "frase = input('Escribe una frase: ')\n",
        "print(frase.lower().replace('a', chr(64)))"
      ],
      "metadata": {
        "colab": {
          "base_uri": "https://localhost:8080/"
        },
        "id": "_-djv7wQmPJa",
        "outputId": "9ce7995a-ce31-405a-e316-b8cee7609f88"
      },
      "execution_count": 39,
      "outputs": [
        {
          "output_type": "stream",
          "name": "stdout",
          "text": [
            "Escribe una frase: TOMATICAN\n",
            "tom@tic@n\n"
          ]
        }
      ]
    },
    {
      "cell_type": "markdown",
      "source": [
        "10 - Recopilamos una frase utilizando la función input. Para asegurarnos de que los caracteres no estén en mayúsculas, convertimos toda la frase a minúsculas utilizando el método lower y luego aplicamos el método replace, definiendo el valor a reemplazar como 's' y el nuevo valor como el carácter 36 según la tabla Unicode, que corresponde al símbolo $. El resultado se muestra en un comando print."
      ],
      "metadata": {
        "id": "SihK4Z-A8et6"
      }
    },
    {
      "cell_type": "code",
      "source": [
        "frase = input('Escribe una frase: ')\n",
        "print(frase.lower().replace('s', chr(36)))"
      ],
      "metadata": {
        "colab": {
          "base_uri": "https://localhost:8080/"
        },
        "id": "xuzg4ST3mPHC",
        "outputId": "4b487484-741f-41bd-bdc4-596732f2e29a"
      },
      "execution_count": 40,
      "outputs": [
        {
          "output_type": "stream",
          "name": "stdout",
          "text": [
            "Escribe una frase: SUSURRO\n",
            "$u$urro\n"
          ]
        }
      ]
    },
    {
      "cell_type": "code",
      "source": [],
      "metadata": {
        "id": "QIjnmX03mPEd"
      },
      "execution_count": null,
      "outputs": []
    },
    {
      "cell_type": "code",
      "source": [],
      "metadata": {
        "id": "eQoton6VmPBi"
      },
      "execution_count": null,
      "outputs": []
    },
    {
      "cell_type": "code",
      "source": [],
      "metadata": {
        "id": "UU8PB0-3mO-c"
      },
      "execution_count": null,
      "outputs": []
    },
    {
      "cell_type": "code",
      "source": [],
      "metadata": {
        "id": "Xrr3rRP1mO7D"
      },
      "execution_count": null,
      "outputs": []
    },
    {
      "cell_type": "code",
      "source": [],
      "metadata": {
        "id": "biOoLMwFekmH"
      },
      "execution_count": null,
      "outputs": []
    }
  ]
}